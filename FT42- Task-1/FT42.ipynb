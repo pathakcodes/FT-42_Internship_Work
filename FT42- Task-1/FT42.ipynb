{
  "nbformat": 4,
  "nbformat_minor": 0,
  "metadata": {
    "colab": {
      "name": "FT42.ipynb",
      "version": "0.3.2",
      "provenance": []
    },
    "kernelspec": {
      "name": "python3",
      "display_name": "Python 3"
    },
    "accelerator": "TPU"
  },
  "cells": [
    {
      "metadata": {
        "id": "AmsTpF5ni9Vd",
        "colab_type": "code",
        "outputId": "75976ddf-cc76-4917-8186-f0aee19ade52",
        "colab": {
          "base_uri": "https://localhost:8080/",
          "height": 35
        }
      },
      "cell_type": "code",
      "source": [
        "from google.colab import drive\n",
        "drive.mount('/content/drive')\n"
      ],
      "execution_count": 25,
      "outputs": [
        {
          "output_type": "stream",
          "text": [
            "Drive already mounted at /content/drive; to attempt to forcibly remount, call drive.mount(\"/content/drive\", force_remount=True).\n"
          ],
          "name": "stdout"
        }
      ]
    },
    {
      "metadata": {
        "id": "GNPyh0ZZgRQx",
        "colab_type": "code",
        "colab": {}
      },
      "cell_type": "code",
      "source": [
        "Path = '/content/drive/My Drive/DataSet'"
      ],
      "execution_count": 0,
      "outputs": []
    },
    {
      "metadata": {
        "id": "7h9i5SMN5rDD",
        "colab_type": "code",
        "outputId": "112f2b7e-e26c-4571-a3a4-64a024ae946a",
        "colab": {
          "base_uri": "https://localhost:8080/",
          "height": 35
        }
      },
      "cell_type": "code",
      "source": [
        "cd {Path}"
      ],
      "execution_count": 27,
      "outputs": [
        {
          "output_type": "stream",
          "text": [
            "/content/drive/My Drive/DataSet\n"
          ],
          "name": "stdout"
        }
      ]
    },
    {
      "metadata": {
        "colab_type": "code",
        "id": "-wM9ODguFN6s",
        "colab": {}
      },
      "cell_type": "code",
      "source": [
        "#import packages\n",
        "import pandas as pd\n",
        "import numpy as np"
      ],
      "execution_count": 0,
      "outputs": []
    },
    {
      "metadata": {
        "id": "n3mDx2CnRd9C",
        "colab_type": "code",
        "colab": {}
      },
      "cell_type": "code",
      "source": [
        "#to plot within notebook\n",
        "import matplotlib.pyplot as plt\n",
        "%matplotlib inline"
      ],
      "execution_count": 0,
      "outputs": []
    },
    {
      "metadata": {
        "id": "0FUD3v4NResu",
        "colab_type": "code",
        "colab": {}
      },
      "cell_type": "code",
      "source": [
        "#setting figure size\n",
        "from matplotlib.pylab import rcParams\n",
        "rcParams['figure.figsize'] = 20,10\n"
      ],
      "execution_count": 0,
      "outputs": []
    },
    {
      "metadata": {
        "id": "ql85kkwkRhGm",
        "colab_type": "code",
        "colab": {}
      },
      "cell_type": "code",
      "source": [
        "#for normalizing data\n",
        "from sklearn.preprocessing import MinMaxScaler\n",
        "scaler = MinMaxScaler(feature_range=(0, 1))"
      ],
      "execution_count": 0,
      "outputs": []
    },
    {
      "metadata": {
        "id": "sfz1Am0uRjmD",
        "colab_type": "code",
        "colab": {}
      },
      "cell_type": "code",
      "source": [
        "#read the file\n",
        "df = pd.read_csv('NSE-TATAGLOBAL.csv')\n"
      ],
      "execution_count": 0,
      "outputs": []
    },
    {
      "metadata": {
        "id": "oJUSNWWWRoFi",
        "colab_type": "code",
        "colab": {}
      },
      "cell_type": "code",
      "source": [
        "#print the head\n",
        "#df.head()\n",
        "\n"
      ],
      "execution_count": 0,
      "outputs": []
    },
    {
      "metadata": {
        "id": "htcEmQhiRqyd",
        "colab_type": "code",
        "colab": {}
      },
      "cell_type": "code",
      "source": [
        "#importing required libraries\n",
        "from sklearn.preprocessing import MinMaxScaler\n",
        "from keras.models import Sequential\n",
        "from keras.layers import Dense, Dropout, LSTM"
      ],
      "execution_count": 0,
      "outputs": []
    },
    {
      "metadata": {
        "id": "mhmuF_BURx6q",
        "colab_type": "code",
        "colab": {}
      },
      "cell_type": "code",
      "source": [
        "#creating dataframe\n",
        "data = df.sort_index(ascending=True, axis=0)\n",
        "new_data = pd.DataFrame(index=range(0,len(df)),columns=['Date', 'Close'])\n",
        "for i in range(0,len(data)):\n",
        "    new_data['Date'][i] = data['Date'][i]\n",
        "    new_data['Close'][i] = data['Close'][i]"
      ],
      "execution_count": 0,
      "outputs": []
    },
    {
      "metadata": {
        "id": "3RzJ4dRa7f1G",
        "colab_type": "code",
        "colab": {}
      },
      "cell_type": "code",
      "source": [
        "#len(data)"
      ],
      "execution_count": 0,
      "outputs": []
    },
    {
      "metadata": {
        "id": "zTwelMBniddV",
        "colab_type": "code",
        "colab": {}
      },
      "cell_type": "code",
      "source": [
        "#new_data.head()"
      ],
      "execution_count": 0,
      "outputs": []
    },
    {
      "metadata": {
        "id": "htPBApq8R2Ub",
        "colab_type": "code",
        "colab": {}
      },
      "cell_type": "code",
      "source": [
        "#setting index\n",
        "new_data.index = new_data.Date\n",
        "new_data.drop('Date', axis=1, inplace=True)"
      ],
      "execution_count": 0,
      "outputs": []
    },
    {
      "metadata": {
        "id": "VTgcBKoLgtG5",
        "colab_type": "code",
        "colab": {}
      },
      "cell_type": "code",
      "source": [
        "#new_data.head()"
      ],
      "execution_count": 0,
      "outputs": []
    },
    {
      "metadata": {
        "id": "udUfgwL2ywNb",
        "colab_type": "code",
        "colab": {}
      },
      "cell_type": "code",
      "source": [
        "#new_data.shape"
      ],
      "execution_count": 0,
      "outputs": []
    },
    {
      "metadata": {
        "id": "253RwE09R4vs",
        "colab_type": "code",
        "colab": {}
      },
      "cell_type": "code",
      "source": [
        "#creating train and test sets\n",
        "dataset = new_data.values\n",
        "\n",
        "train = dataset[0:987,:]\n",
        "valid = dataset[987:,:]"
      ],
      "execution_count": 0,
      "outputs": []
    },
    {
      "metadata": {
        "id": "GRkbvXTKR7r7",
        "colab_type": "code",
        "outputId": "edb34e55-3d6d-462b-da13-a9ed68cc3326",
        "colab": {
          "base_uri": "https://localhost:8080/",
          "height": 74
        }
      },
      "cell_type": "code",
      "source": [
        "#converting dataset into x_train and y_train\n",
        "scaler = MinMaxScaler(feature_range=(0, 1))\n",
        "scaled_data = scaler.fit_transform(dataset)\n",
        "\n",
        "x_train, y_train = [], []\n",
        "for i in range(60,len(train)):\n",
        "    x_train.append(scaled_data[i-60:i,0])\n",
        "    y_train.append(scaled_data[i,0])\n",
        "x_train, y_train = np.array(x_train), np.array(y_train)\n",
        "\n",
        "x_train = np.reshape(x_train, (x_train.shape[0],x_train.shape[1],1))"
      ],
      "execution_count": 41,
      "outputs": [
        {
          "output_type": "stream",
          "text": [
            "/usr/local/lib/python3.6/dist-packages/sklearn/utils/validation.py:595: DataConversionWarning: Data with input dtype object was converted to float64 by MinMaxScaler.\n",
            "  warnings.warn(msg, DataConversionWarning)\n"
          ],
          "name": "stderr"
        }
      ]
    },
    {
      "metadata": {
        "id": "DaE3m9ZIR_Yk",
        "colab_type": "code",
        "outputId": "5fdf65d7-c9c6-44f3-d609-20f94ebb682a",
        "colab": {
          "base_uri": "https://localhost:8080/",
          "height": 72
        }
      },
      "cell_type": "code",
      "source": [
        "# create and fit the LSTM network\n",
        "model = Sequential()\n",
        "model.add(LSTM(units=50, return_sequences=True, input_shape=(x_train.shape[1],1)))\n",
        "model.add(LSTM(units=50))\n",
        "model.add(Dense(1))\n",
        "\n",
        "model.compile(loss='mean_squared_error', optimizer='adam')\n",
        "model.fit(x_train, y_train, epochs=1, batch_size=1, verbose=2)\n"
      ],
      "execution_count": 42,
      "outputs": [
        {
          "output_type": "stream",
          "text": [
            "Epoch 1/1\n",
            " - 48s - loss: 0.0040\n"
          ],
          "name": "stdout"
        },
        {
          "output_type": "execute_result",
          "data": {
            "text/plain": [
              "<keras.callbacks.History at 0x7f61c71a8828>"
            ]
          },
          "metadata": {
            "tags": []
          },
          "execution_count": 42
        }
      ]
    },
    {
      "metadata": {
        "id": "H1vrchMuSEPh",
        "colab_type": "code",
        "colab": {}
      },
      "cell_type": "code",
      "source": [
        "#predicting values\n",
        "inputs = new_data[len(new_data) - len(valid) - 60:].values\n",
        "inputs = inputs.reshape(-1,1)\n",
        "inputs  = scaler.transform(inputs)\n",
        "\n",
        "X_test = []\n",
        "for i in range(60,inputs.shape[0]):\n",
        "    X_test.append(inputs[i-60:i,0])\n",
        "X_test = np.array(X_test)\n",
        "\n",
        "X_test = np.reshape(X_test, (X_test.shape[0],X_test.shape[1],1))\n",
        "closing_price = model.predict(X_test)\n",
        "closing_price = scaler.inverse_transform(closing_price)\n"
      ],
      "execution_count": 0,
      "outputs": []
    },
    {
      "metadata": {
        "id": "v6RuGHih1ZKh",
        "colab_type": "code",
        "outputId": "b0a546f4-f588-4f11-fe0e-b388dd82fc86",
        "colab": {
          "base_uri": "https://localhost:8080/",
          "height": 35
        }
      },
      "cell_type": "code",
      "source": [
        "rms=np.sqrt(np.mean(np.power((valid-closing_price),2)))\n",
        "rms"
      ],
      "execution_count": 44,
      "outputs": [
        {
          "output_type": "execute_result",
          "data": {
            "text/plain": [
              "6.6849540868202375"
            ]
          },
          "metadata": {
            "tags": []
          },
          "execution_count": 44
        }
      ]
    },
    {
      "metadata": {
        "id": "qjdFGYJO1dX0",
        "colab_type": "code",
        "outputId": "2e97f92c-9996-474b-a59a-5d2ed0f91fb7",
        "colab": {
          "base_uri": "https://localhost:8080/",
          "height": 758
        }
      },
      "cell_type": "code",
      "source": [
        "#for plotting\n",
        "train = new_data[:987]\n",
        "valid = new_data[987:]\n",
        "\n",
        "valid['Predictions'] = closing_price\n",
        "plt.plot(train['Close'])\n",
        "plt.plot(valid[['Close','Predictions']])"
      ],
      "execution_count": 45,
      "outputs": [
        {
          "output_type": "stream",
          "text": [
            "/usr/local/lib/python3.6/dist-packages/ipykernel_launcher.py:4: SettingWithCopyWarning: \n",
            "A value is trying to be set on a copy of a slice from a DataFrame.\n",
            "Try using .loc[row_indexer,col_indexer] = value instead\n",
            "\n",
            "See the caveats in the documentation: http://pandas.pydata.org/pandas-docs/stable/indexing.html#indexing-view-versus-copy\n",
            "  after removing the cwd from sys.path.\n"
          ],
          "name": "stderr"
        },
        {
          "output_type": "execute_result",
          "data": {
            "text/plain": [
              "[<matplotlib.lines.Line2D at 0x7f61c47fb898>,\n",
              " <matplotlib.lines.Line2D at 0x7f61c47fb9b0>]"
            ]
          },
          "metadata": {
            "tags": []
          },
          "execution_count": 45
        },
        {
          "output_type": "display_data",
          "data": {
            "image/png": "[encoded data removed]",
            "text/plain": [
              "<Figure size 1440x720 with 1 Axes>"
            ]
          },
          "metadata": {
            "tags": []
          }
        }
      ]
    },
    {
      "metadata": {
        "id": "BmyBEd-ax5Qs",
        "colab_type": "code",
        "colab": {
          "base_uri": "https://localhost:8080/",
          "height": 1217
        },
        "outputId": "6fc80905-5fb5-4a44-e5df-491ada7dcc2b"
      },
      "cell_type": "code",
      "source": [
        "print (\"Actual Close Price VS Predictions\")\n",
        "print (valid)"
      ],
      "execution_count": 46,
      "outputs": [
        {
          "output_type": "stream",
          "text": [
            "Actual Close Price VS Predictions\n",
            "             Close  Predictions\n",
            "Date                           \n",
            "2015-01-08   153.7   160.808304\n",
            "2015-01-07  148.45   160.482132\n",
            "2015-01-06  148.15   159.718292\n",
            "2015-01-05  152.95   158.716568\n",
            "2015-01-02   152.5   157.996048\n",
            "2015-01-01   150.7   157.466171\n",
            "2014-12-31  150.95   156.966080\n",
            "2014-12-30  149.05   156.543747\n",
            "2014-12-29  148.65   156.056503\n",
            "2014-12-26  146.85   155.535126\n",
            "2014-12-24   146.9   154.893387\n",
            "2014-12-23   148.3   154.227402\n",
            "2014-12-22   147.5   153.698166\n",
            "2014-12-19   147.4   153.232803\n",
            "2014-12-18   147.5   152.836594\n",
            "2014-12-17     145   152.520187\n",
            "2014-12-16  144.25   152.089569\n",
            "2014-12-15   151.6   151.563995\n",
            "2014-12-12  152.95   151.563950\n",
            "2014-12-11  155.65   151.989594\n",
            "2014-12-10     156   152.860199\n",
            "2014-12-09  154.85   153.973557\n",
            "2014-12-08   158.3   155.071396\n",
            "2014-12-05   161.1   156.336609\n",
            "2014-12-04   163.4   157.818466\n",
            "2014-12-03  163.25   159.499817\n",
            "2014-12-02  163.35   161.170624\n",
            "2014-12-01  159.55   162.719940\n",
            "2014-11-28   161.3   163.786911\n",
            "2014-11-27     161   164.607834\n",
            "...            ...          ...\n",
            "2010-08-31   120.5   128.494110\n",
            "2010-08-30   117.6   128.018143\n",
            "2010-08-27  117.75   127.249115\n",
            "2010-08-26  118.15   126.361588\n",
            "2010-08-25     117   125.491951\n",
            "2010-08-24  116.45   124.616875\n",
            "2010-08-23   116.7   123.764923\n",
            "2010-08-20   111.5   123.007858\n",
            "2010-08-19  113.05   121.996483\n",
            "2010-08-18  108.85   121.006256\n",
            "2010-08-17   110.1   119.800903\n",
            "2010-08-16  111.25   118.634331\n",
            "2010-08-13  114.15   117.656288\n",
            "2010-08-12  112.55   117.074585\n",
            "2010-08-11   113.9   116.676720\n",
            "2010-08-10   112.3   116.519974\n",
            "2010-08-09  112.85   116.412857\n",
            "2010-08-06   112.1   116.380684\n",
            "2010-08-05  114.05   116.342056\n",
            "2010-08-04   116.5   116.436844\n",
            "2010-08-03   118.3   116.781334\n",
            "2010-08-02   117.3   117.388397\n",
            "2010-07-30  116.05   118.049561\n",
            "2010-07-29   116.6   118.607788\n",
            "2010-07-28  118.25   119.095680\n",
            "2010-07-27  118.65   119.618019\n",
            "2010-07-26   117.6   120.153038\n",
            "2010-07-23  120.65   120.584084\n",
            "2010-07-22   120.9   121.134819\n",
            "2010-07-21  121.55   121.740471\n",
            "\n",
            "[1113 rows x 2 columns]\n"
          ],
          "name": "stdout"
        }
      ]
    }
  ]
}