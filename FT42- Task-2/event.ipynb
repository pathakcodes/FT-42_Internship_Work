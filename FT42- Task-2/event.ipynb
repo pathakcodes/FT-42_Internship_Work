{
  "nbformat": 4,
  "nbformat_minor": 0,
  "metadata": {
    "colab": {
      "name": "event.ipynb",
      "version": "0.3.2",
      "provenance": [],
      "collapsed_sections": []
    },
    "kernelspec": {
      "name": "python3",
      "display_name": "Python 3"
    }
  },
  "cells": [
    {
      "metadata": {
        "id": "2ikY1sz-BtEE",
        "colab_type": "code",
        "colab": {}
      },
      "cell_type": "code",
      "source": [
        "Path = '/content/drive/My Drive/DataSet'"
      ],
      "execution_count": 0,
      "outputs": []
    },
    {
      "metadata": {
        "id": "me0NX2gakXbB",
        "colab_type": "code",
        "outputId": "165f54fa-afb2-4ea0-bd4a-aac54d68b438",
        "colab": {
          "base_uri": "https://localhost:8080/",
          "height": 35
        }
      },
      "cell_type": "code",
      "source": [
        "from google.colab import drive\n",
        "drive.mount('/content/drive')\n"
      ],
      "execution_count": 97,
      "outputs": [
        {
          "output_type": "stream",
          "text": [
            "Drive already mounted at /content/drive; to attempt to forcibly remount, call drive.mount(\"/content/drive\", force_remount=True).\n"
          ],
          "name": "stdout"
        }
      ]
    },
    {
      "metadata": {
        "id": "PGuODmF6iD0k",
        "colab_type": "code",
        "outputId": "284f2e5b-c177-4ea0-e9e1-55fb1fa8eac0",
        "colab": {
          "base_uri": "https://localhost:8080/",
          "height": 35
        }
      },
      "cell_type": "code",
      "source": [
        "cd /content/drive/My Drive/DataSet"
      ],
      "execution_count": 98,
      "outputs": [
        {
          "output_type": "stream",
          "text": [
            "/content/drive/My Drive/DataSet\n"
          ],
          "name": "stdout"
        }
      ]
    },
    {
      "metadata": {
        "id": "-d6Ag1Iqc5hi",
        "colab_type": "code",
        "colab": {}
      },
      "cell_type": "code",
      "source": [
        "import pandas as pd \n",
        "import numpy as np\n",
        "import matplotlib.pylab as plt\n",
        "%matplotlib inline\n"
      ],
      "execution_count": 0,
      "outputs": []
    },
    {
      "metadata": {
        "id": "Sn9xPZPec5iB",
        "colab_type": "code",
        "colab": {}
      },
      "cell_type": "code",
      "source": [
        "from matplotlib.pylab import rcParams\n",
        "rcParams['figure.figsize'] = 15, 6"
      ],
      "execution_count": 0,
      "outputs": []
    },
    {
      "metadata": {
        "id": "lEIO9Hv6c5iZ",
        "colab_type": "code",
        "colab": {}
      },
      "cell_type": "code",
      "source": [
        "df= pd.read_csv('event.txt')"
      ],
      "execution_count": 0,
      "outputs": []
    },
    {
      "metadata": {
        "id": "ilUkoZi2c5it",
        "colab_type": "code",
        "colab": {}
      },
      "cell_type": "code",
      "source": [
        "#df.head() #to get insight of data"
      ],
      "execution_count": 0,
      "outputs": []
    },
    {
      "metadata": {
        "id": "oVvVJpcqc5jI",
        "colab_type": "code",
        "colab": {}
      },
      "cell_type": "code",
      "source": [
        "#df.shape #axis 1 , axis  =0"
      ],
      "execution_count": 0,
      "outputs": []
    },
    {
      "metadata": {
        "id": "T1VOwFNWc5jZ",
        "colab_type": "code",
        "colab": {}
      },
      "cell_type": "code",
      "source": [
        "#print(df.dtypes)\n"
      ],
      "execution_count": 0,
      "outputs": []
    },
    {
      "metadata": {
        "id": "_7v1Du48c5jv",
        "colab_type": "code",
        "colab": {}
      },
      "cell_type": "code",
      "source": [
        "df['Date'] = pd.to_datetime(df['Date']) #to convert object data type to date-time object\n",
        "#df.index = df['Date'] #setting Date as index"
      ],
      "execution_count": 0,
      "outputs": []
    },
    {
      "metadata": {
        "id": "2HH7Rkqmc5kG",
        "colab_type": "code",
        "colab": {}
      },
      "cell_type": "code",
      "source": [
        "#print(df.dtypes)"
      ],
      "execution_count": 0,
      "outputs": []
    },
    {
      "metadata": {
        "id": "YBBZrFZ4C3C8",
        "colab_type": "code",
        "colab": {}
      },
      "cell_type": "code",
      "source": [
        "#df.head()"
      ],
      "execution_count": 0,
      "outputs": []
    },
    {
      "metadata": {
        "id": "56zeoCEQc5mX",
        "colab_type": "code",
        "colab": {}
      },
      "cell_type": "code",
      "source": [
        "#df.shape[1] repsents y axis"
      ],
      "execution_count": 0,
      "outputs": []
    },
    {
      "metadata": {
        "id": "Ix9xL3DSc5ml",
        "colab_type": "code",
        "colab": {}
      },
      "cell_type": "code",
      "source": [
        "#df.shape[0] # represents x axis"
      ],
      "execution_count": 0,
      "outputs": []
    },
    {
      "metadata": {
        "id": "4FUTO4GCDM5A",
        "colab_type": "code",
        "colab": {}
      },
      "cell_type": "code",
      "source": [
        "OH = df['Open']-df['High']\n",
        "OH = OH.abs()"
      ],
      "execution_count": 0,
      "outputs": []
    },
    {
      "metadata": {
        "id": "TGl3MGPcFBcB",
        "colab_type": "code",
        "colab": {}
      },
      "cell_type": "code",
      "source": [
        "OL = df['Open'] - df['Low']\n",
        "OL = OL.abs()"
      ],
      "execution_count": 0,
      "outputs": []
    },
    {
      "metadata": {
        "id": "V7pe8SKiFPzp",
        "colab_type": "code",
        "colab": {}
      },
      "cell_type": "code",
      "source": [
        "HL = df['High'] - df['Low']\n",
        "HL = HL.abs()"
      ],
      "execution_count": 0,
      "outputs": []
    },
    {
      "metadata": {
        "id": "oEgqFoP3FeyY",
        "colab_type": "code",
        "colab": {}
      },
      "cell_type": "code",
      "source": [
        "CH = df['Close'] - df['High']\n",
        "CH = CH.abs()"
      ],
      "execution_count": 0,
      "outputs": []
    },
    {
      "metadata": {
        "id": "fQDm_ZPQFpT8",
        "colab_type": "code",
        "colab": {}
      },
      "cell_type": "code",
      "source": [
        "CL = df['Close'] - df['Low']\n",
        "CL = CL.abs()"
      ],
      "execution_count": 0,
      "outputs": []
    },
    {
      "metadata": {
        "id": "QHH7fk84FxE-",
        "colab_type": "code",
        "colab": {}
      },
      "cell_type": "code",
      "source": [
        "change = OH + OL + HL + CH + CL \n"
      ],
      "execution_count": 0,
      "outputs": []
    },
    {
      "metadata": {
        "id": "XMu4Y1z8DUVF",
        "colab_type": "code",
        "colab": {}
      },
      "cell_type": "code",
      "source": [
        "df['Change'] = change"
      ],
      "execution_count": 0,
      "outputs": []
    },
    {
      "metadata": {
        "id": "E0f4xAauDYxG",
        "colab_type": "code",
        "colab": {}
      },
      "cell_type": "code",
      "source": [
        "#df.head()"
      ],
      "execution_count": 0,
      "outputs": []
    },
    {
      "metadata": {
        "id": "C0tyfJUrHcXl",
        "colab_type": "code",
        "outputId": "d8222348-8d4f-4813-c96b-3e61897cef36",
        "colab": {
          "base_uri": "https://localhost:8080/",
          "height": 393
        }
      },
      "cell_type": "code",
      "source": [
        "#visualising change distribution\n",
        "rcParams['figure.figsize'] = 16 , 6\n",
        "plt.plot(df['Date'],df['Change'] , 'ro')"
      ],
      "execution_count": 117,
      "outputs": [
        {
          "output_type": "execute_result",
          "data": {
            "text/plain": [
              "[<matplotlib.lines.Line2D at 0x7f27df646668>]"
            ]
          },
          "metadata": {
            "tags": []
          },
          "execution_count": 117
        },
        {
          "output_type": "display_data",
          "data": {
            "image/png": "[encoded data removed]",
            "text/plain": [
              "<Figure size 1152x432 with 1 Axes>"
            ]
          },
          "metadata": {
            "tags": []
          }
        }
      ]
    },
    {
      "metadata": {
        "id": "pjlmhYd4si4T",
        "colab_type": "code",
        "colab": {}
      },
      "cell_type": "code",
      "source": [
        "df['y1'] = df['Change'].loc[df['Date'] <= '1996']"
      ],
      "execution_count": 0,
      "outputs": []
    },
    {
      "metadata": {
        "id": "wBU4_w_KumuG",
        "colab_type": "code",
        "colab": {}
      },
      "cell_type": "code",
      "source": [
        "df['y2'] = df['Change'].loc [ (df['Date'] <= '1998') & (df['Date'] > '1996') ]"
      ],
      "execution_count": 0,
      "outputs": []
    },
    {
      "metadata": {
        "id": "qr4m5pjLv8aX",
        "colab_type": "code",
        "colab": {}
      },
      "cell_type": "code",
      "source": [
        "df['y3'] = df['Change'].loc[(df['Date'] <= '2002') & (df['Date'] > '1998') ]"
      ],
      "execution_count": 0,
      "outputs": []
    },
    {
      "metadata": {
        "id": "VlUn_tQFxOOE",
        "colab_type": "code",
        "colab": {}
      },
      "cell_type": "code",
      "source": [
        "df['y4'] = df['Change'].loc[(df['Date'] <= '2008') & (df['Date'] > '2002') ]"
      ],
      "execution_count": 0,
      "outputs": []
    },
    {
      "metadata": {
        "id": "cjW5pBOdxeyz",
        "colab_type": "code",
        "colab": {}
      },
      "cell_type": "code",
      "source": [
        "df['y5'] = df['Change'].loc[(df['Date'] > '2008') ]"
      ],
      "execution_count": 0,
      "outputs": []
    },
    {
      "metadata": {
        "id": "7xC5Fk7YFvlG",
        "colab_type": "code",
        "colab": {}
      },
      "cell_type": "code",
      "source": [
        "#making boundary line parameter by intuition omly\n",
        "stdy1 = (df['y1'].std() + df['y1'].mean())*3\n",
        "stdy2 = (df['y2'].std() + df['y2'].mean())*2.8\n",
        "stdy3 = (df['y3'].std() + df['y3'].mean())*2.5\n",
        "stdy4 = (df['y4'].std() + df['y4'].mean())*3\n",
        "stdy5 = (df['y5'].std() + df['y5'].mean())*3"
      ],
      "execution_count": 0,
      "outputs": []
    },
    {
      "metadata": {
        "id": "DO_zECAcGZBR",
        "colab_type": "code",
        "colab": {}
      },
      "cell_type": "code",
      "source": [
        "df['Date'] = pd.to_datetime(df['Date']).dt.date  #to take only dates"
      ],
      "execution_count": 0,
      "outputs": []
    },
    {
      "metadata": {
        "id": "Mx4Ri18g0n8y",
        "colab_type": "code",
        "colab": {}
      },
      "cell_type": "code",
      "source": [
        "datelist = []  #list to store events\n"
      ],
      "execution_count": 0,
      "outputs": []
    },
    {
      "metadata": {
        "id": "nffsklh20h64",
        "colab_type": "code",
        "colab": {}
      },
      "cell_type": "code",
      "source": [
        "# adding events to datelist LIST\n",
        "i = 0\n",
        "cnt = 0\n",
        "\n",
        "for i in range (df['y1'].size):\n",
        "  if df['y1'].iloc[i] > stdy1:\n",
        "    #print (df['Date'].iloc[i])\n",
        "    cnt= cnt+1\n",
        "    datelist.append(df['Date'].iloc[i])\n",
        "\n",
        "i = 0\n",
        "for i in range (df['y2'].size):\n",
        "  if df['y2'].iloc[i] > stdy1:\n",
        "    #print (df['Date'].iloc[i])\n",
        "    cnt= cnt+1\n",
        "    datelist.append(df['Date'].iloc[i])\n",
        "\n",
        "\n",
        "i = 0\n",
        "for i in range (df['y3'].size):\n",
        "  if df['y3'].iloc[i] > stdy1:\n",
        "    #print (df['Date'].iloc[i])\n",
        "    cnt= cnt+1\n",
        "    datelist.append(df['Date'].iloc[i])\n",
        "i = 0\n",
        "for i in range (df['y4'].size):\n",
        "  if df['y4'].iloc[i] > stdy1:\n",
        "    #print (df['Date'].iloc[i])\n",
        "    cnt= cnt+1\n",
        "    datelist.append(df['Date'].iloc[i])\n",
        "i = 0\n",
        "for i in range (df['y5'].size):\n",
        "  if df['y5'].iloc[i] > stdy1:\n",
        "    #print (df['Date'].iloc[i])\n",
        "    cnt= cnt+1\n",
        "    datelist.append(df['Date'].iloc[i])"
      ],
      "execution_count": 0,
      "outputs": []
    },
    {
      "metadata": {
        "id": "AO87RAGUwMFE",
        "colab_type": "code",
        "colab": {}
      },
      "cell_type": "code",
      "source": [
        "#converting datlist LIST to dateframe DATAFRAME\n",
        "dateframe = pd.DataFrame(datelist,columns = ['Date'])\n",
        "dateframe['Date'] = pd.to_datetime(dateframe['Date'])\n"
      ],
      "execution_count": 0,
      "outputs": []
    },
    {
      "metadata": {
        "id": "cOwHk7svGsaB",
        "colab_type": "code",
        "outputId": "be823ce9-1494-41ea-aa25-bf953e78f1fb",
        "colab": {
          "base_uri": "https://localhost:8080/",
          "height": 393
        }
      },
      "cell_type": "code",
      "source": [
        "#plotting the final graph with lines\n",
        "rcParams['figure.figsize'] = 16 , 6\n",
        "plt.plot(df['Date'],df['Change'] , 'ro')\n",
        "plt.axhline(y=stdy1, xmin=0, xmax=.38,color='r',linestyle= '-')\n",
        "plt.axhline(y=stdy2, xmin=0.38, xmax=.45,color='b',linestyle= '-')\n",
        "plt.axhline(y=stdy3, xmin=0.45, xmax=.6,color='g',linestyle= '-')\n",
        "plt.axhline(y=stdy4,xmin=0.6, xmax=.7,color='y',linestyle= '-')\n",
        "plt.axhline(y=stdy5,xmin=0.7, xmax=1,color='b',linestyle= '-')"
      ],
      "execution_count": 128,
      "outputs": [
        {
          "output_type": "execute_result",
          "data": {
            "text/plain": [
              "<matplotlib.lines.Line2D at 0x7f27df4c0128>"
            ]
          },
          "metadata": {
            "tags": []
          },
          "execution_count": 128
        },
        {
          "output_type": "display_data",
          "data": {
            "image/png": "[encoded data removed]",
            "text/plain": [
              "<Figure size 1152x432 with 1 Axes>"
            ]
          },
          "metadata": {
            "tags": []
          }
        }
      ]
    },
    {
      "metadata": {
        "id": "8TjDndRQpdTX",
        "colab_type": "code",
        "outputId": "f7d41501-3af7-425e-a8b4-c1686009ade4",
        "colab": {
          "base_uri": "https://localhost:8080/",
          "height": 1199
        }
      },
      "cell_type": "code",
      "source": [
        "print (\"Total no. of prdicted events  = %d\" % (cnt))\n",
        "print(dateframe)"
      ],
      "execution_count": 132,
      "outputs": [
        {
          "output_type": "stream",
          "text": [
            "Total no. of prdicted events  = 209\n",
            "          Date\n",
            "0   1983-06-23\n",
            "1   1987-10-19\n",
            "2   1987-10-20\n",
            "3   1993-10-05\n",
            "4   1994-03-10\n",
            "5   1994-10-03\n",
            "6   1996-11-14\n",
            "7   1997-03-12\n",
            "8   1997-03-14\n",
            "9   1997-03-18\n",
            "10  1997-03-19\n",
            "11  1997-08-18\n",
            "12  1997-09-03\n",
            "13  1997-10-27\n",
            "14  1997-10-28\n",
            "15  1999-01-13\n",
            "16  1999-02-03\n",
            "17  1999-11-11\n",
            "18  2000-01-19\n",
            "19  2000-01-20\n",
            "20  2000-01-24\n",
            "21  2000-01-25\n",
            "22  2000-03-07\n",
            "23  2000-03-08\n",
            "24  2000-03-09\n",
            "25  2000-03-10\n",
            "26  2000-03-13\n",
            "27  2000-03-14\n",
            "28  2000-03-23\n",
            "29  2000-03-29\n",
            "..         ...\n",
            "179 2001-07-06\n",
            "180 2001-07-13\n",
            "181 2001-07-18\n",
            "182 2001-11-08\n",
            "183 2002-01-03\n",
            "184 2002-01-17\n",
            "185 2002-04-18\n",
            "186 2004-11-12\n",
            "187 2004-12-06\n",
            "188 2005-01-11\n",
            "189 2005-10-12\n",
            "190 2006-01-10\n",
            "191 2006-01-12\n",
            "192 2006-01-18\n",
            "193 2006-01-30\n",
            "194 2006-02-09\n",
            "195 2006-02-14\n",
            "196 2006-02-28\n",
            "197 2006-03-03\n",
            "198 2006-03-13\n",
            "199 2006-03-14\n",
            "200 2006-03-21\n",
            "201 2006-04-13\n",
            "202 2006-04-17\n",
            "203 2006-05-22\n",
            "204 2006-05-23\n",
            "205 2006-05-24\n",
            "206 2006-06-02\n",
            "207 2006-12-14\n",
            "208 2008-09-29\n",
            "\n",
            "[209 rows x 1 columns]\n"
          ],
          "name": "stdout"
        }
      ]
    }
  ]
}